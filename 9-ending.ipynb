{
 "cells": [
  {
   "cell_type": "markdown",
   "metadata": {},
   "source": [
    "# まとめ\n",
    "\n",
    "\n",
    "あとで書く\n",
    "\n",
    "\n"
   ]
  },
  {
   "cell_type": "markdown",
   "metadata": {},
   "source": [
    "# コミュニティ紹介\n",
    "\n",
    "- PyCon JP : http://pycon.jp\n",
    "- PyData.Tokyo : https://pydatatokyo.connpass.com/\n",
    "- PyLadies Tokyo : http://tokyo.pyladies.com/\n",
    "- python mini hack-a-thon : https://pyhack.connpass.com/"
   ]
  },
  {
   "cell_type": "markdown",
   "metadata": {},
   "source": [
    "# 宣伝\n",
    "\n",
    "## プログラミング初学者向け書籍\n",
    "\n",
    "スラスラわかるPython(予約発売) : 　http://amzn.to/2r1P8nG\n",
    "\n",
    "## 動画で学ぶ\n",
    "\n",
    "ネットラーニング W3シリーズ : http://stage.netlearning.co.jp/campaign/W3LP/index.html"
   ]
  },
  {
   "cell_type": "code",
   "execution_count": null,
   "metadata": {
    "collapsed": true
   },
   "outputs": [],
   "source": []
  }
 ],
 "metadata": {
  "kernelspec": {
   "display_name": "Python 3",
   "language": "python",
   "name": "python3"
  },
  "language_info": {
   "codemirror_mode": {
    "name": "ipython",
    "version": 3
   },
   "file_extension": ".py",
   "mimetype": "text/x-python",
   "name": "python",
   "nbconvert_exporter": "python",
   "pygments_lexer": "ipython3",
   "version": "3.6.1"
  }
 },
 "nbformat": 4,
 "nbformat_minor": 2
}
