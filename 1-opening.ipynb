{
 "cells": [
  {
   "cell_type": "markdown",
   "metadata": {},
   "source": [
    "# セッションの説明\n",
    "\n",
    "## タイトル\n",
    "\n",
    "Python 機械学習ことはじめ\n",
    "\n",
    "## 内容\n",
    "\n",
    "Pythonで機械学習を行う際の、データハンドリングを中心に デモ形式で説明します。\n",
    "\n",
    "時間的に限りが ありますので、細かな説明を行うのではなく、順次実行していく 状況を見て、Pythonでは どのように実行しているのかを知ってもらうことを目的とします。\n",
    "\n",
    "Webブラウザで実行できる、Jupyter Notebookを用います。実行した内容はGithubで公開しますので、詳細の動きは後から自分自身で 復習できます。\n"
   ]
  },
  {
   "cell_type": "markdown",
   "metadata": {},
   "source": [
    "# 本日の流れ\n",
    "\n",
    "- データの入手(2箇所から、CSVとHTML)\n",
    "- データの概要確認\n",
    "- データの結合\n",
    "- データの加工\n",
    "- 欠損値処理\n",
    "- グラフツールによる可視化\n",
    "- 関連度などを確認\n",
    "- データの保存\n",
    "- 機械学習をやってみる"
   ]
  },
  {
   "cell_type": "markdown",
   "metadata": {},
   "source": [
    "# 使用するツール\n",
    "\n",
    "- Python 3.6.1 : https://docs.python.jp/3/\n",
    "- NumPy 1.13.0 : https://docs.scipy.org/doc/\n",
    "- Pandas 0.20.2 : http://pandas.pydata.org/pandas-docs/stable/\n",
    "- matplotlib 2.0 : https://matplotlib.org/ or Seaborn 0.7.1 : https://seaborn.pydata.org/index.html\n",
    "- scikit-learn 0.18.1 : http://scikit-learn.org/stable/documentation.html\n",
    "- jupyter　1.0.0　: http://jupyter.org/\n",
    "- chainer 2.0.0 : https://docs.chainer.org/en/stable/ (使わないかもしれないが)\n",
    "\n",
    "詳細は、  `requirements.txt` を参照のこと"
   ]
  },
  {
   "cell_type": "markdown",
   "metadata": {},
   "source": [
    "# 資料の公開\n",
    "\n",
    "このドキュメントを含めて、github上で公開しています。\n",
    "\n",
    "https://github.com/terapyon/scsk-oss-x-users-meeting-19\n",
    "\n",
    "ライセンスは、MIT Licenseです。詳細は、 `LICENSE` を参照のこと"
   ]
  },
  {
   "cell_type": "markdown",
   "metadata": {},
   "source": [
    "# このセッションで理解してほしいこと\n",
    "\n",
    "データ分析、機械学習で重要なタスクである、データハンドリングの中でもっとも時間がかかる、データの前処理を中心に方法を見ていきます。\n",
    "\n",
    "Pythonでどのようにデータハンドリングをし、可視化し、機械学習に繋げていくのかの流れを理解して欲しい。\n",
    "\n",
    "サンプルのデータセットではない物を使用することで、実際に時間の掛かる作業の方法を見て欲しい。\n",
    "\n",
    "詳細は、Jupyter Notebookでおさらいし、ドキュメントを確認して、自身で独自のデータに取り組めるようになって欲しい。\n"
   ]
  },
  {
   "cell_type": "markdown",
   "metadata": {
    "collapsed": true
   },
   "source": [
    "# 自己紹介\n",
    "\n",
    "- 寺田　学　 @terapyon\n",
    "- 一般社団法人PyCon JP 代表理事\n",
    "- (株)CMSコミュニケーションズ 代表\n",
    "- Pythonを使ったWeb技術を中心に業務でPythonを使っている\n",
    "- Python製CMSツールのPloneのコアコミッター\n",
    "- その他、OSS系のコミュニティに所属"
   ]
  },
  {
   "cell_type": "markdown",
   "metadata": {},
   "source": [
    "# 書籍の紹介\n",
    "\n",
    "## プログラミング初学者\n",
    "\n",
    "- スラスラわかるPython(予約発売) : 　http://amzn.to/2r1P8nG\n",
    "\n",
    "## Python\n",
    "\n",
    "- Pythonチュートリアル 第3版: http://amzn.to/2saXIEJ \n",
    "- Effective Python: http://amzn.to/2sJZE4f\n",
    "\n",
    "- **非推奨** 入門 Python 3\n",
    "\n",
    "## データ系\n",
    "\n",
    "- 10分でわかるPandas (公式サイト) : http://pandas.pydata.org/pandas-docs/stable/10min.html\n",
    "- 科学技術計算のためのPython入門: http://amzn.to/2sldJHT (微妙なコードはあったが)\n",
    "- Python機械学習プログラミング http://amzn.to/2slxpLS\n",
    "- ゼロから作るDeep Learning: http://amzn.to/2saxvpO"
   ]
  },
  {
   "cell_type": "code",
   "execution_count": null,
   "metadata": {
    "collapsed": true
   },
   "outputs": [],
   "source": []
  }
 ],
 "metadata": {
  "kernelspec": {
   "display_name": "Python 3",
   "language": "python",
   "name": "python3"
  },
  "language_info": {
   "codemirror_mode": {
    "name": "ipython",
    "version": 3
   },
   "file_extension": ".py",
   "mimetype": "text/x-python",
   "name": "python",
   "nbconvert_exporter": "python",
   "pygments_lexer": "ipython3",
   "version": "3.6.1"
  }
 },
 "nbformat": 4,
 "nbformat_minor": 2
}
